{
 "cells": [
  {
   "cell_type": "markdown",
   "metadata": {},
   "source": [
    "<font size=\"4\" style=\"color:red;\"> **IMPORTANT: ** When submitting this homework notebook, only modify the cells that start with:</font>\n",
    "\n",
    "```python\n",
    "# modify this cell\n",
    "```\n",
    "\n",
    "<font style=\"color:red;\"> Do not add any new cells and do not import any packages. For working on the notebook, we reccomend you create a copy that you can use to test ideas.</font>"
   ]
  },
  {
   "cell_type": "markdown",
   "metadata": {},
   "source": [
    "# Integer compositions\n",
    "\n",
    "A $k$-composition of an integer $n$ is a $k$-tuple of positive integesrs that sum to $n$. As we saw, there are $\\binom{n-1}{k-1}$ such compositions. For example, there are $\\binom{4-1}{3-1}=\\binom32=3\\quad$ 3-compositions of 4: $(1,1,2)$, $(1,2,1)$, and $(2,1,1)$.\n",
    "\n",
    "The following problems ask you to generate such compositions, verify the above formula computationally, and to generate and enumerate constrined compositions."
   ]
  },
  {
   "cell_type": "markdown",
   "metadata": {},
   "source": [
    "### Helper Code"
   ]
  },
  {
   "cell_type": "code",
   "execution_count": 1,
   "metadata": {},
   "outputs": [],
   "source": [
    "import sys\n",
    "import numpy as np\n",
    "import scipy as sp\n",
    "from scipy.special import *"
   ]
  },
  {
   "cell_type": "markdown",
   "metadata": {},
   "source": [
    "This helper function not used in your homework. You don't need to know how it works."
   ]
  },
  {
   "cell_type": "code",
   "execution_count": 2,
   "metadata": {},
   "outputs": [],
   "source": [
    "def print_compositions(func_out):\n",
    "    for x in func_out:\n",
    "        string = \"\"\n",
    "        for i in x:\n",
    "           string = string + str(i)+ \" + \"\n",
    "        print(string[0:-2])   \n",
    "        "
   ]
  },
  {
   "cell_type": "markdown",
   "metadata": {},
   "source": [
    "## Problem 1"
   ]
  },
  {
   "cell_type": "markdown",
   "metadata": {},
   "source": [
    "Write a function **compositions** that takes two natural numbers $k$ and $n$ as inputs and returns the set of all tuples of size $k$ that sum to $n$. \n",
    "\n",
    "<font  style=\"color:blue\"> **Code:**</font>\n",
    "```python\n",
    "func_out = compositions(3,4)\n",
    "\n",
    "print \"all possible combinations: \"\n",
    "print_compositions(func_out)\n",
    "print;print \"Actual Output from compositions(3,4)\"; func_out\n",
    "```\n",
    "\n",
    "\n",
    "<font  style=\"color:magenta\"> **Output**</font>\n",
    "```\n",
    "all possible combinations: \n",
    "1 + 2 + 1 \n",
    "2 + 1 + 1 \n",
    "1 + 1 + 2 \n",
    "\n",
    "Actual Output from: compositions(3,4)\n",
    "{(1, 1, 2), (1, 2, 1), (2, 1, 1)}\n",
    "```"
   ]
  },
  {
   "cell_type": "code",
   "execution_count": 34,
   "metadata": {
    "nbgrader": {
     "grade": true,
     "grade_id": "ex1",
     "locked": true,
     "points": "5",
     "solution": false
    },
    "scrolled": true
   },
   "outputs": [],
   "source": [
    "# modify this cell\n",
    "from itertools import product\n",
    "\n",
    "def compositions(k, n):\n",
    "    # inputs: k and n are of type 'int'\n",
    "    # output: a set of tuples\n",
    "    indices = list(product(range(0, n), repeat=k))\n",
    "    indices = indices[:len(indices)//2]\n",
    "    bars = []\n",
    "    for idx in indices:\n",
    "        if max(idx) == idx[-1] and len(idx) == len(set(idx)) and idx == tuple(sorted(idx)):\n",
    "            bars.append(idx)\n",
    "    stars = [1]*n\n",
    "    output = set([tuple(map(np.sum, np.split(stars, bar[1:]))) for bar in bars])\n",
    "    return output"
   ]
  },
  {
   "cell_type": "code",
   "execution_count": 35,
   "metadata": {},
   "outputs": [],
   "source": [
    "# Check Function\n",
    "func_out = compositions(2, 8)\n",
    "assert type(func_out).__name__ == \"set\"\n",
    "assert func_out == {(1, 7), (2, 6), (3, 5), (4, 4), (5, 3), (6, 2), (7, 1)}\n",
    "\n",
    "#\n",
    "# AUTOGRADER TEST - DO NOT REMOVE\n",
    "#\n"
   ]
  },
  {
   "cell_type": "code",
   "execution_count": 36,
   "metadata": {},
   "outputs": [
    {
     "data": {
      "text/plain": [
       "{(1, 4), (2, 3), (3, 2), (4, 1)}"
      ]
     },
     "execution_count": 36,
     "metadata": {},
     "output_type": "execute_result"
    }
   ],
   "source": [
    "compositions(2, 5)"
   ]
  },
  {
   "cell_type": "code",
   "execution_count": null,
   "metadata": {},
   "outputs": [],
   "source": [
    "compositions(9, 16)"
   ]
  },
  {
   "cell_type": "markdown",
   "metadata": {},
   "source": [
    "## Problem 2\n",
    "\n",
    "Write a function **composition_formula** that takes two positive integers, $k$ and $n$,\n",
    "and returns the number of $k$-compositions of $n$ calculated in two different ways:\n",
    "first by calculating the number of compositions returned by **compositions**, \n",
    "then by using the binomial formula $\\binom{n-1}{k-1}$. The returned value should be a\n",
    "tuple consisting of the (same) integer calculated in the two ways.\n",
    "\n",
    "<font  style=\"color:blue\"> **Code**</font>\n",
    "```python\n",
    "print len(compositions(3, 4))\n",
    "print int(binom(4-1, 3-1))\n",
    "print composition_formula(3, 4)\n",
    "```\n",
    "\n",
    "<font  style=\"color:magenta\"> **Output**</font>\n",
    "```python\n",
    "3\n",
    "3\n",
    "(3, 3)\n",
    "```"
   ]
  },
  {
   "cell_type": "code",
   "execution_count": null,
   "metadata": {
    "nbgrader": {
     "grade": true,
     "grade_id": "ex2",
     "locked": true,
     "points": "5",
     "solution": false
    }
   },
   "outputs": [],
   "source": [
    "# modify this cell\n",
    "\n",
    "def composition_formula(k, n):\n",
    "    # inputs: k and n are of type 'int'\n",
    "    # output: a set of tuples, (int, int)\n",
    "    comps = len(compositions(k, n))\n",
    "    num_comps = int(factorial(n-1)/(factorial(k-1)*factorial(n-k)))\n",
    "    return (comps, num_comps)"
   ]
  },
  {
   "cell_type": "code",
   "execution_count": null,
   "metadata": {},
   "outputs": [],
   "source": [
    "# Check Function\n",
    "assert composition_formula(4, 12) == (165,165)\n",
    "\n",
    "#\n",
    "# AUTOGRADER TEST - DO NOT REMOVE\n",
    "#\n"
   ]
  },
  {
   "cell_type": "code",
   "execution_count": null,
   "metadata": {},
   "outputs": [],
   "source": [
    "composition_formula(9, 16)"
   ]
  },
  {
   "cell_type": "markdown",
   "metadata": {
    "collapsed": true
   },
   "source": [
    "## Problem 3\n",
    "\n",
    "Let $\\boldsymbol{m}=(m_1,...,m_k)$ be a vector of $k$ positive integers. A $k$-composition $(a_1,...,a_k)$ of $n$ is $\\boldsymbol{m}$-constrained if $a_i\\leq m_i$ for all $1\\le i\\le k$. For example, $(1,1,3)$ and $(2,1,2)$ are the only $(2,1,4)$-constrined 3-partitions of 5. \n",
    "\n",
    "Write a function **constrained_compositions** that takes a natural number $n$ and a vector $\\boldsymbol{m}$ of $k$ positive integers, and prints the set of all $\\boldsymbol m$-constrained $k$-compositions of $n$. Note that $k$ can be inferred from $\\boldsymbol m$. \n",
    "\n",
    "Hint: You may invoke the **compositions** function.\n",
    "\n",
    "<font  style=\"color:blue\"> **Code**</font>\n",
    "```python\n",
    "func_out = constrained_compositions(7, [3, 2, 5])\n",
    "\n",
    "print \"all possible combinations: \"\n",
    "print_compositions(func_out)\n",
    "print;print \"Actual Output from compositions(3,7)\"; func_out\n",
    "```\n",
    "\n",
    "\n",
    "<font  style=\"color:magenta\"> **Output**</font>\n",
    "```\n",
    "all possible combinations: \n",
    "1 + 2 + 4 \n",
    "2 + 1 + 4 \n",
    "3 + 2 + 2 \n",
    "3 + 1 + 3 \n",
    "1 + 1 + 5 \n",
    "2 + 2 + 3 \n",
    "\n",
    "Actual Output from compositions(3,7)\n",
    "{(1, 1, 5), (1, 2, 4), (2, 1, 4), (2, 2, 3), (3, 1, 3), (3, 2, 2)}\n",
    "```"
   ]
  },
  {
   "cell_type": "code",
   "execution_count": null,
   "metadata": {
    "nbgrader": {
     "grade": true,
     "grade_id": "ex3",
     "locked": true,
     "points": "5",
     "solution": false
    }
   },
   "outputs": [],
   "source": [
    "# modify this cell\n",
    "\n",
    "def constrained_compositions(n, m):\n",
    "    # inputs: n is of type 'int' and m is a list of integers\n",
    "    # output: a set of tuples\n",
    "    comps = compositions(len(m), n)\n",
    "    output = [comp for comp in comps if all([sub_comp <= tup for sub_comp, tup in zip(comp, tuple(m))])]\n",
    "    return set(output)"
   ]
  },
  {
   "cell_type": "code",
   "execution_count": null,
   "metadata": {},
   "outputs": [],
   "source": [
    "# Check Function\n",
    "func_out = constrained_compositions(7, [1,4,4])\n",
    "assert type(func_out).__name__ == \"set\"\n",
    "assert constrained_compositions(7, [1,4,4]) == {(1, 2, 4), (1, 3, 3), (1, 4, 2)}\n",
    "\n",
    "#\n",
    "# AUTOGRADER TEST - DO NOT REMOVE\n",
    "#\n"
   ]
  },
  {
   "cell_type": "code",
   "execution_count": null,
   "metadata": {},
   "outputs": [],
   "source": [
    "constrained_compositions(8, [3,2,4])"
   ]
  },
  {
   "cell_type": "code",
   "execution_count": null,
   "metadata": {},
   "outputs": [],
   "source": [
    "len(constrained_compositions(20, [12, 15, 5]))"
   ]
  },
  {
   "cell_type": "code",
   "execution_count": null,
   "metadata": {},
   "outputs": [],
   "source": []
  }
 ],
 "metadata": {
  "kernelspec": {
   "display_name": "Python 3",
   "language": "python",
   "name": "python3"
  },
  "language_info": {
   "codemirror_mode": {
    "name": "ipython",
    "version": 3
   },
   "file_extension": ".py",
   "mimetype": "text/x-python",
   "name": "python",
   "nbconvert_exporter": "python",
   "pygments_lexer": "ipython3",
   "version": "3.7.7"
  },
  "toc": {
   "base_numbering": 1,
   "nav_menu": {
    "height": "48px",
    "width": "252px"
   },
   "number_sections": true,
   "sideBar": true,
   "skip_h1_title": false,
   "title_cell": "Table of Contents",
   "title_sidebar": "Contents",
   "toc_cell": false,
   "toc_position": {},
   "toc_section_display": "block",
   "toc_window_display": false
  },
  "varInspector": {
   "cols": {
    "lenName": 16,
    "lenType": 16,
    "lenVar": 40
   },
   "kernels_config": {
    "python": {
     "delete_cmd_postfix": "",
     "delete_cmd_prefix": "del ",
     "library": "var_list.py",
     "varRefreshCmd": "print(var_dic_list())"
    },
    "r": {
     "delete_cmd_postfix": ") ",
     "delete_cmd_prefix": "rm(",
     "library": "var_list.r",
     "varRefreshCmd": "cat(var_dic_list()) "
    }
   },
   "types_to_exclude": [
    "module",
    "function",
    "builtin_function_or_method",
    "instance",
    "_Feature"
   ],
   "window_display": false
  }
 },
 "nbformat": 4,
 "nbformat_minor": 2
}
